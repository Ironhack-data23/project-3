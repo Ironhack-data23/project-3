{
 "cells": [
  {
   "cell_type": "code",
   "execution_count": 1,
   "metadata": {},
   "outputs": [],
   "source": [
    "import pandas as pd \n",
    "import requests\n",
    "from bs4 import BeautifulSoup\n",
    "import re"
   ]
  },
  {
   "cell_type": "markdown",
   "metadata": {},
   "source": [
    "### 1st city: New York"
   ]
  },
  {
   "cell_type": "code",
   "execution_count": 4,
   "metadata": {},
   "outputs": [
    {
     "data": {
      "text/plain": [
       "[]"
      ]
     },
     "execution_count": 4,
     "metadata": {},
     "output_type": "execute_result"
    }
   ],
   "source": [
    "url = \"https://finance.yahoo.com/news/study-reveals-average-cost-per-195736142.html?guccounter=1&guce_referrer=aHR0cHM6Ly93d3cuZ29vZ2xlLmNvbS8&guce_referrer_sig=AQAAAIDPnUAJpaXGUbdSXXX2DAl-e1E5p1EeGcdTxcxStbbVDDPOq7AdaBsDnNIrrqLk1_hgQZc6sJdSrygVoOWklcVzm8LEznN84RYlVUttGQ-xd5KkZLS_s6kz7-iriS3x8oC-882P5bqE1bzW08E1h4arEwzAloPEmLfXW1ukGLhJ\"\n",
    "res = requests.get(url)                                       \n",
    "soup = BeautifulSoup(res.content, 'html.parser')\n",
    "ny_rent = soup.find_all(\"div\", {\"class\":\"caas-table\"})\n",
    "ny_rent"
   ]
  },
  {
   "cell_type": "code",
   "execution_count": 37,
   "metadata": {},
   "outputs": [
    {
     "data": {
      "text/html": [
       "<div>\n",
       "<style scoped>\n",
       "    .dataframe tbody tr th:only-of-type {\n",
       "        vertical-align: middle;\n",
       "    }\n",
       "\n",
       "    .dataframe tbody tr th {\n",
       "        vertical-align: top;\n",
       "    }\n",
       "\n",
       "    .dataframe thead th {\n",
       "        text-align: right;\n",
       "    }\n",
       "</style>\n",
       "<table border=\"1\" class=\"dataframe\">\n",
       "  <thead>\n",
       "    <tr style=\"text-align: right;\">\n",
       "      <th></th>\n",
       "      <th>Rank</th>\n",
       "      <th>Location</th>\n",
       "      <th>Price</th>\n",
       "    </tr>\n",
       "  </thead>\n",
       "  <tbody>\n",
       "    <tr>\n",
       "      <th>0</th>\n",
       "      <td>1</td>\n",
       "      <td>San Jose, CA, United States</td>\n",
       "      <td>16,054.79 $</td>\n",
       "    </tr>\n",
       "    <tr>\n",
       "      <th>1</th>\n",
       "      <td>2</td>\n",
       "      <td>New York, NY, United States</td>\n",
       "      <td>15,900.08 $</td>\n",
       "    </tr>\n",
       "    <tr>\n",
       "      <th>2</th>\n",
       "      <td>3</td>\n",
       "      <td>Brooklyn, NY, United States</td>\n",
       "      <td>14,039.73 $</td>\n",
       "    </tr>\n",
       "    <tr>\n",
       "      <th>3</th>\n",
       "      <td>4</td>\n",
       "      <td>San Francisco, CA, United States</td>\n",
       "      <td>13,518.21 $</td>\n",
       "    </tr>\n",
       "    <tr>\n",
       "      <th>6</th>\n",
       "      <td>7</td>\n",
       "      <td>San Diego, CA, United States</td>\n",
       "      <td>11,715.93 $</td>\n",
       "    </tr>\n",
       "    <tr>\n",
       "      <th>11</th>\n",
       "      <td>12</td>\n",
       "      <td>Los Angeles, CA, United States</td>\n",
       "      <td>9,531.96 $</td>\n",
       "    </tr>\n",
       "    <tr>\n",
       "      <th>17</th>\n",
       "      <td>18</td>\n",
       "      <td>Oakland, CA, United States</td>\n",
       "      <td>8,191.34 $</td>\n",
       "    </tr>\n",
       "    <tr>\n",
       "      <th>19</th>\n",
       "      <td>20</td>\n",
       "      <td>Sacramento, CA, United States</td>\n",
       "      <td>7,409.16 $</td>\n",
       "    </tr>\n",
       "  </tbody>\n",
       "</table>\n",
       "</div>"
      ],
      "text/plain": [
       "   Rank                          Location        Price\n",
       "0     1       San Jose, CA, United States  16,054.79 $\n",
       "1     2       New York, NY, United States  15,900.08 $\n",
       "2     3       Brooklyn, NY, United States  14,039.73 $\n",
       "3     4  San Francisco, CA, United States  13,518.21 $\n",
       "6     7      San Diego, CA, United States  11,715.93 $\n",
       "11   12    Los Angeles, CA, United States   9,531.96 $\n",
       "17   18        Oakland, CA, United States   8,191.34 $\n",
       "19   20     Sacramento, CA, United States   7,409.16 $"
      ]
     },
     "execution_count": 37,
     "metadata": {},
     "output_type": "execute_result"
    }
   ],
   "source": [
    "url = \"https://www.numbeo.com/cost-of-living/city_price_rankings?displayCurrency=USD&itemId=100&region=021\"\n",
    "res = requests.get(url) \n",
    "soup = BeautifulSoup(res.content, 'html.parser')\n",
    "table = soup.find_all('tr', {\"class\":\"tr_standard\"})\n",
    "\n",
    "rank = [columns[0].text.strip().replace(\".\",\"\") for row in table if (columns := row.find_all('td'))]\n",
    "location = [columns[1].text.strip() for row in table if (columns := row.find_all('td'))]\n",
    "price = [columns[3].text.strip() for row in table if (columns := row.find_all('td'))]\n",
    "\n",
    "ranking = pd.DataFrame({\"Rank\": rank, \n",
    "                        \"Location\":location, \n",
    "                        \"Price\": price})\n",
    "\n",
    "ranking = ranking[~ranking[\"Location\"].str.contains(\"Canada\")]\n",
    "ranking1 = ranking[ranking[\"Location\"].str.contains(\"NY|CA\")]\n",
    "ranking1\n"
   ]
  }
 ],
 "metadata": {
  "kernelspec": {
   "display_name": "ironhack",
   "language": "python",
   "name": "python3"
  },
  "language_info": {
   "codemirror_mode": {
    "name": "ipython",
    "version": 3
   },
   "file_extension": ".py",
   "mimetype": "text/x-python",
   "name": "python",
   "nbconvert_exporter": "python",
   "pygments_lexer": "ipython3",
   "version": "3.11.5"
  }
 },
 "nbformat": 4,
 "nbformat_minor": 2
}
