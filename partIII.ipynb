{
 "cells": [
  {
   "cell_type": "code",
   "execution_count": 2,
   "metadata": {},
   "outputs": [],
   "source": [
    "import pandas as pd \n",
    "import requests\n",
    "from bs4 import BeautifulSoup\n",
    "import re"
   ]
  },
  {
   "cell_type": "markdown",
   "metadata": {},
   "source": [
    "### Price ($) per square meter for each city"
   ]
  },
  {
   "cell_type": "code",
   "execution_count": 48,
   "metadata": {},
   "outputs": [
    {
     "data": {
      "text/html": [
       "<div>\n",
       "<style scoped>\n",
       "    .dataframe tbody tr th:only-of-type {\n",
       "        vertical-align: middle;\n",
       "    }\n",
       "\n",
       "    .dataframe tbody tr th {\n",
       "        vertical-align: top;\n",
       "    }\n",
       "\n",
       "    .dataframe thead th {\n",
       "        text-align: right;\n",
       "    }\n",
       "</style>\n",
       "<table border=\"1\" class=\"dataframe\">\n",
       "  <thead>\n",
       "    <tr style=\"text-align: right;\">\n",
       "      <th></th>\n",
       "      <th>Rank</th>\n",
       "      <th>Location</th>\n",
       "      <th>Price</th>\n",
       "    </tr>\n",
       "  </thead>\n",
       "  <tbody>\n",
       "    <tr>\n",
       "      <th>1</th>\n",
       "      <td>2</td>\n",
       "      <td>New York, NY, United States</td>\n",
       "      <td>15900.08</td>\n",
       "    </tr>\n",
       "    <tr>\n",
       "      <th>3</th>\n",
       "      <td>4</td>\n",
       "      <td>San Francisco, CA, United States</td>\n",
       "      <td>13518.21</td>\n",
       "    </tr>\n",
       "    <tr>\n",
       "      <th>11</th>\n",
       "      <td>12</td>\n",
       "      <td>Los Angeles, CA, United States</td>\n",
       "      <td>9531.96</td>\n",
       "    </tr>\n",
       "  </tbody>\n",
       "</table>\n",
       "</div>"
      ],
      "text/plain": [
       "   Rank                          Location     Price\n",
       "1     2       New York, NY, United States  15900.08\n",
       "3     4  San Francisco, CA, United States  13518.21\n",
       "11   12    Los Angeles, CA, United States   9531.96"
      ]
     },
     "execution_count": 48,
     "metadata": {},
     "output_type": "execute_result"
    }
   ],
   "source": [
    "url = \"https://www.numbeo.com/cost-of-living/city_price_rankings?displayCurrency=USD&itemId=100&region=021\"\n",
    "res = requests.get(url) \n",
    "soup = BeautifulSoup(res.content, 'html.parser')\n",
    "table = soup.find_all('tr', {\"class\":\"tr_standard\"})\n",
    "\n",
    "rank = [columns[0].text.strip().replace(\".\",\"\") for row in table if (columns := row.find_all('td'))]\n",
    "location = [columns[1].text.strip() for row in table if (columns := row.find_all('td'))]\n",
    "price = [columns[3].text.strip().replace(\"\\xa0$\", \"\").replace(\",\",\"\").replace(\"\\n\",\"\") for row in table if (columns := row.find_all('td'))]\n",
    "\n",
    "ranking = pd.DataFrame({\"Rank\": rank, \n",
    "                        \"Location\":location, \n",
    "                        \"Price\": price})\n",
    "\n",
    "ranking = ranking[~ranking[\"Location\"].str.contains(\"Canada\")]\n",
    "ranking1 = ranking[ranking[\"Location\"].str.contains(\"NY|CA\")]\n",
    "ranking1 = ranking1[~ranking1[\"Location\"].str.contains(\"Jose|Brooklyn|Diego|Oakland|Sacramento\")]\n",
    "#I stay only with the cities that I want which are: New York, NY; San Francisco, CA; Los Angeles, CA\n",
    "ranking1\n"
   ]
  },
  {
   "cell_type": "code",
   "execution_count": 49,
   "metadata": {},
   "outputs": [],
   "source": [
    "ranking1[\"Price\"] =  pd.to_numeric(ranking1[\"Price\"], errors=\"coerce\")\n"
   ]
  },
  {
   "cell_type": "code",
   "execution_count": 51,
   "metadata": {},
   "outputs": [
    {
     "data": {
      "text/plain": [
       "15900.08"
      ]
     },
     "execution_count": 51,
     "metadata": {},
     "output_type": "execute_result"
    }
   ],
   "source": [
    "ranking1[\"Price\"].max()"
   ]
  },
  {
   "cell_type": "markdown",
   "metadata": {},
   "source": [
    "Differences in distance:"
   ]
  },
  {
   "cell_type": "code",
   "execution_count": 86,
   "metadata": {},
   "outputs": [],
   "source": [
    "import math\n",
    "\n",
    "def distance(query,coord1,coord2):\n",
    " \n",
    "    # Coordinates in decimal degrees (e.g. 2.89078, 12.79797)\n",
    "    lon1, lat1 = coord1\n",
    "    lon2, lat2 = coord2\n",
    "\n",
    "    R = 6371000  # radius of Earth in meters\n",
    "    phi_1 = math.radians(lat1)\n",
    "    phi_2 = math.radians(lat2)\n",
    "\n",
    "    delta_phi = math.radians(lat2 - lat1)\n",
    "    delta_lambda = math.radians(lon2 - lon1)\n",
    "\n",
    "    a = math.sin(delta_phi / 2.0) ** 2 + math.cos(phi_1) * math.cos(phi_2) * math.sin(delta_lambda / 2.0) ** 2\n",
    "    \n",
    "    c = 2 * math.atan2(math.sqrt(a), math.sqrt(1 - a))\n",
    "\n",
    "    meters = R * c  # output distance in meters\n",
    "    km = meters / 1000.0  # output distance in kilometers\n",
    "\n",
    "    meters = round(meters, 3)\n",
    "    km = round(km, 3)\n",
    "\n",
    "    print(f\"{query} at {meters} m from the office\")\n",
    "    return meters"
   ]
  },
  {
   "cell_type": "code",
   "execution_count": 98,
   "metadata": {},
   "outputs": [
    {
     "name": "stdout",
     "output_type": "stream",
     "text": [
      "Starbucks at 550.57 m from the office\n",
      "Schools at 904.795 m from the office\n",
      "Airports at 2047.453 m from the office\n",
      "Clubs at 873.88 m from the office\n",
      "Basketball at 1273.586 m from the office\n",
      "Pets at 450.539 m from the office\n"
     ]
    }
   ],
   "source": [
    "lat1 = 40.726155\n",
    "lon1 = -73.995625\n",
    "coord1 = lon1, lat1 \n",
    "\n",
    "lat2 = 40.730073\t\n",
    "lon2 = -73.991630\n",
    "coord2 = lon2, lat2\n",
    "ny_starbucks = distance(\"Starbucks\",coord1, coord2)\n",
    "\n",
    "\n",
    "lat3 = 40.730902\t\n",
    "lon3 = -73.986904\t\n",
    "coord3 = lon3, lat3\n",
    "ny_school= distance(\"Schools\",coord1, coord3)\n",
    "\n",
    "\n",
    "lat4 = 40.743114\t\n",
    "lon4 = -73.986160\n",
    "coord4 = lon4, lat4\n",
    "ny_airport = distance(\"Airports\",coord1, coord4)\n",
    "\n",
    "\n",
    "lat5 = 40.720505\t\n",
    "lon5 = -73.988417\n",
    "coord5 = lon5, lat5\n",
    "ny_clubs = distance(\"Clubs\",coord1, coord5)\n",
    "\n",
    "\n",
    "lat6 = 40.726974\n",
    "lon6 = -73.980550\n",
    "coord6 = lon6, lat6\n",
    "ny_basketball = distance(\"Basketball\",coord1, coord6)\n",
    "\n",
    "\n",
    "lat7 = 40.726421\t\n",
    "lon7 = -74.000960\n",
    "coord7 = lon7, lat7\n",
    "ny_pets = distance(\"Pets\",coord1, coord7)\n",
    "\n",
    "common_index = range(len(ny_starbucks)) if isinstance(ny_starbucks, list) else [0]\n",
    "nylist = {\"Starbucks\": ny_starbucks,\"Schools\":ny_school,\"Airports\":ny_airport,\"Clubs\": ny_clubs,\"Basketball\": ny_basketball,\"Pets\": ny_pets}\n",
    "nylist = pd.DataFrame(nylist, index=common_index)"
   ]
  },
  {
   "cell_type": "code",
   "execution_count": 99,
   "metadata": {},
   "outputs": [
    {
     "name": "stdout",
     "output_type": "stream",
     "text": [
      "Starbucks at 609.712 m from the office\n",
      "Schools at 1125.447 m from the office\n",
      "Airports at 427.521 m from the office\n",
      "Clubs at 309.421 m from the office\n",
      "Basketball at 1460.785 m from the office\n",
      "Pets at 50.86 m from the office\n"
     ]
    }
   ],
   "source": [
    "lat1 = 37.788668\n",
    "lon1 = -122.400558\n",
    "coord11 = lon1, lat1 \n",
    "\n",
    "\n",
    "lat2 = 37.788398\t\n",
    "lon2 = -122.393628\n",
    "coord2 = lon2, lat2\n",
    "sf_starbucks = distance(\"Starbucks\",coord11, coord2)\n",
    "\n",
    "\n",
    "lat3 = 37.798585\n",
    "lon3 = -122.403119\n",
    "coord3 = lon3, lat3\n",
    "sf_school= distance(\"Schools\",coord11, coord3)\n",
    "\n",
    "\n",
    "lat4 = 37.788091\n",
    "lon4 = -122.405368\n",
    "coord4 = lon4, lat4\n",
    "sf_airport = distance(\"Airports\",coord11, coord4)\n",
    "\n",
    "\n",
    "lat5 = 37.785979\t\t\n",
    "lon5 = -122.399652\n",
    "coord5 = lon5, lat5\n",
    "sf_clubs = distance(\"Clubs\",coord11, coord5)\n",
    "\n",
    "\n",
    "lat6 = 37.781084\n",
    "lon6 = -122.414131\n",
    "coord6 = lon6, lat6\n",
    "sf_basketball = distance(\"Basketball\",coord11, coord6)\n",
    "\n",
    "\n",
    "lat7 = 37.788808\t\t\n",
    "lon7 = -122.401109\n",
    "coord7 = lon7, lat7\n",
    "sf_pets = distance(\"Pets\",coord11, coord7)\n",
    "\n",
    "common_index = range(len(sf_starbucks)) if isinstance(sf_starbucks, list) else [0]\n",
    "sflist = {\"Starbucks\": sf_starbucks,\"Schools\":sf_school,\"Airports\":sf_airport,\"Clubs\": sf_clubs,\"Basketball\": sf_basketball,\"Pets\": sf_pets}\n",
    "sflist = pd.DataFrame(sflist, index=common_index)"
   ]
  },
  {
   "cell_type": "code",
   "execution_count": 100,
   "metadata": {},
   "outputs": [
    {
     "name": "stdout",
     "output_type": "stream",
     "text": [
      "Starbucks at 1164.582 m from the office\n",
      "Schools at 705.796 m from the office\n",
      "Airports at 1196.966 m from the office\n",
      "Clubs at 1849.059 m from the office\n",
      "Basketball at 613.961 m from the office\n",
      "Pets at 624.032 m from the office\n"
     ]
    }
   ],
   "source": [
    "lat1 = 34.085749\n",
    "lon1 = -118.343791\n",
    "coord11 = lon1, lat1 \n",
    "\n",
    "\n",
    "lat2 = 34.083539\n",
    "lon2 = -118.356152\n",
    "coord2 = lon2, lat2\n",
    "la_starbucks = distance(\"Starbucks\",coord11, coord2)\n",
    "\n",
    "lat3 = 34.088039\n",
    "lon3 = -118.336643\n",
    "coord3 = lon3, lat3\n",
    "la_school= distance(\"Schools\",coord11, coord3)\n",
    "\n",
    "lat4 = 34.075066\n",
    "lon4 = -118.342194\n",
    "coord4 = lon4, lat4\n",
    "la_airport = distance(\"Airports\",coord11, coord4)\n",
    "\n",
    "lat5 = 34.101016\t\t\n",
    "lon5 = -118.335832\n",
    "coord5 = lon5, lat5\n",
    "la_clubs = distance(\"Clubs\",coord11, coord5)\n",
    "\n",
    "lat6 = 34.087743\n",
    "lon6 = -118.350008\n",
    "coord6 = lon6, lat6\n",
    "la_basketball = distance(\"Basketball\",coord11, coord6)\n",
    "\n",
    "lat7 = 34.091353\t\t\t\n",
    "lon7 = -118.343428\n",
    "coord7 = lon7, lat7\n",
    "la_pets = distance(\"Pets\",coord11, coord7)\n",
    "\n",
    "common_index = range(len(la_starbucks)) if isinstance(la_starbucks, list) else [0]\n",
    "lalist = {\"Starbucks\": la_starbucks,\"Schools\":la_school,\"Airports\":la_airport,\"Clubs\": la_clubs,\"Basketball\": la_basketball,\"Pets\": la_pets}\n",
    "lalist = pd.DataFrame(lalist,  index=common_index)"
   ]
  },
  {
   "cell_type": "code",
   "execution_count": null,
   "metadata": {},
   "outputs": [],
   "source": []
  }
 ],
 "metadata": {
  "kernelspec": {
   "display_name": "ironhack",
   "language": "python",
   "name": "python3"
  },
  "language_info": {
   "codemirror_mode": {
    "name": "ipython",
    "version": 3
   },
   "file_extension": ".py",
   "mimetype": "text/x-python",
   "name": "python",
   "nbconvert_exporter": "python",
   "pygments_lexer": "ipython3",
   "version": "3.11.5"
  }
 },
 "nbformat": 4,
 "nbformat_minor": 2
}
